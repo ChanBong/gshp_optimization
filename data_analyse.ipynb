{
 "cells": [
  {
   "cell_type": "code",
   "execution_count": 2,
   "metadata": {},
   "outputs": [
    {
     "name": "stdout",
     "output_type": "stream",
     "text": [
      "                                               address     location  \\\n",
      "81   #2733, 16th Cross, 27th Main, Opppsite NIFT Co...          HSR   \n",
      "41   #35/4, 24th main JP Nagar 7th phase, Puttenaha...     JP Nagar   \n",
      "1    1, 24th Main Rd, 1st Phase, Girinagar, KR Layo...     JP Nagar   \n",
      "3    1, 24th Main Rd, 1st Phase, Girinagar, KR Layo...     JP Nagar   \n",
      "78   1, 328, 27th Main, 21st Cross, Sector 2, HSR, ...          HSR   \n",
      "..                                                 ...          ...   \n",
      "25   Someshwara Bhavan, RBI Layout, 7th Phase, Koth...     JP Nagar   \n",
      "207  Srinivasa Nilayam, Site 3, Vidya Vikas School ...          MTH   \n",
      "134  Srinivasan Towers, ESI Hospital Road, Off Doub...  Indiranagar   \n",
      "13   The HHI Select Bengaluru Hotel, 686, 15th Cros...     JP Nagar   \n",
      "203                   Yemalur, Marathahalli, Bangalore          MTH   \n",
      "\n",
      "             AWB               names product_id  \n",
      "81   31316164825          Joe Worley    SKU_110  \n",
      "41   25281194232    Christine Pfeiff    SKU_117  \n",
      "1    73350066683            Jon Hall     SKU_31  \n",
      "3    49726345575        Cora Massart     SKU_23  \n",
      "78   89111417547       Larry Herndon     SKU_48  \n",
      "..           ...                 ...        ...  \n",
      "25   50570222462        Jason Taylor     SKU_95  \n",
      "207  60841023934  Bobbie Scarborough      SKU_3  \n",
      "134  55217454663        Joseph Jones    SKU_142  \n",
      "13   32162999926      Miguel Evanoff     SKU_44  \n",
      "203  12358732625       Annie Farrior    SKU_139  \n",
      "\n",
      "[218 rows x 5 columns]\n"
     ]
    }
   ],
   "source": [
    "import pandas as pd\n",
    "\n",
    "\n",
    "# read the data. Sort it by column 'address'\n",
    "df = pd.read_excel('data/bangalore_dispatch_address_finals.xlsx', engine='openpyxl').sort_values(by='address')\n",
    "print(df)"
   ]
  },
  {
   "cell_type": "code",
   "execution_count": 3,
   "metadata": {},
   "outputs": [
    {
     "name": "stdout",
     "output_type": "stream",
     "text": [
      "Index(['address', 'location', 'AWB', 'names', 'product_id'], dtype='object')\n",
      "['HSR' 'JP Nagar' 'MTH' 'Indiranagar' 'KR Puram']\n"
     ]
    }
   ],
   "source": [
    "# List out all the column names\n",
    "print(df.columns)\n",
    "# Find how many unqiue 'location' are there\n",
    "print(df['location'].unique())"
   ]
  },
  {
   "cell_type": "code",
   "execution_count": null,
   "metadata": {},
   "outputs": [],
   "source": []
  }
 ],
 "metadata": {
  "kernelspec": {
   "display_name": "cs224n",
   "language": "python",
   "name": "python3"
  },
  "language_info": {
   "codemirror_mode": {
    "name": "ipython",
    "version": 3
   },
   "file_extension": ".py",
   "mimetype": "text/x-python",
   "name": "python",
   "nbconvert_exporter": "python",
   "pygments_lexer": "ipython3",
   "version": "3.7.11 (default, Jul 27 2021, 14:32:16) \n[GCC 7.5.0]"
  },
  "orig_nbformat": 4,
  "vscode": {
   "interpreter": {
    "hash": "10a60345526fe4dffbcebffbdba0122dd224ce12bf042a609d192e908aad6929"
   }
  }
 },
 "nbformat": 4,
 "nbformat_minor": 2
}
